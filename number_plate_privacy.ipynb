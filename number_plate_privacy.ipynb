{
  "nbformat": 4,
  "nbformat_minor": 0,
  "metadata": {
    "colab": {
      "name": "number plate privacy",
      "provenance": [],
      "private_outputs": true,
      "collapsed_sections": []
    },
    "kernelspec": {
      "name": "python3",
      "display_name": "Python 3"
    },
    "accelerator": "GPU"
  },
  "cells": [
    {
      "cell_type": "code",
      "metadata": {
        "id": "oEBIYVlJmYLN",
        "colab_type": "code",
        "colab": {}
      },
      "source": [
        "import pandas as pd\n",
        "import urllib\n",
        "import matplotlib.pyplot as plt\n",
        "import numpy as np\n",
        "import cv2\n",
        "import glob\n",
        "import os\n",
        "import time\n",
        "from PIL import Image\n",
        "\n",
        "from keras.applications.vgg16 import VGG16\n",
        "from keras.layers import Flatten, Dense, Conv2D, MaxPooling2D, Input, Dropout\n",
        "from keras.models import Model, Sequential\n",
        "from keras.preprocessing.image import ImageDataGenerator\n",
        "from keras.optimizers import Adam"
      ],
      "execution_count": 0,
      "outputs": []
    },
    {
      "cell_type": "code",
      "metadata": {
        "id": "THcAIFUWm2T1",
        "colab_type": "code",
        "colab": {}
      },
      "source": [
        "df = pd.read_json(\"/content/Indian_Number_plates.json\", lines=True)\n",
        "\n",
        "df.head()"
      ],
      "execution_count": 0,
      "outputs": []
    },
    {
      "cell_type": "code",
      "metadata": {
        "id": "IQbW8MWDnFBA",
        "colab_type": "code",
        "colab": {}
      },
      "source": [
        "df['annotation'][0]"
      ],
      "execution_count": 0,
      "outputs": []
    },
    {
      "cell_type": "code",
      "metadata": {
        "id": "Spr8UG3enIKI",
        "colab_type": "code",
        "colab": {}
      },
      "source": [
        "os.mkdir(\"Indian Number Plates\")"
      ],
      "execution_count": 0,
      "outputs": []
    },
    {
      "cell_type": "code",
      "metadata": {
        "id": "NHP4mbjnngvQ",
        "colab_type": "code",
        "colab": {}
      },
      "source": [
        "dataset = dict()\n",
        "dataset[\"image_name\"] = list()\n",
        "dataset[\"image_width\"] = list()\n",
        "dataset[\"image_height\"] = list()\n",
        "dataset[\"top_x\"] = list()\n",
        "dataset[\"top_y\"] = list()\n",
        "dataset[\"bottom_x\"] = list()\n",
        "dataset[\"bottom_y\"] = list()\n",
        "\n",
        "counter = 0\n",
        "for index, row in df.iterrows():\n",
        "    img = urllib.request.urlopen(row[\"content\"])\n",
        "    img = Image.open(img)\n",
        "    img = img.convert('RGB')\n",
        "    img.save(\"Indian Number Plates/licensed_car{}.jpeg\".format(counter), \"JPEG\")\n",
        "    \n",
        "    dataset[\"image_name\"].append(\"licensed_car{}\".format(counter))\n",
        "    \n",
        "    data = row[\"annotation\"]\n",
        "    \n",
        "    dataset[\"image_width\"].append(data[0][\"imageWidth\"])\n",
        "    dataset[\"image_height\"].append(data[0][\"imageHeight\"])\n",
        "    dataset[\"top_x\"].append(data[0][\"points\"][0][\"x\"])\n",
        "    dataset[\"top_y\"].append(data[0][\"points\"][0][\"y\"])\n",
        "    dataset[\"bottom_x\"].append(data[0][\"points\"][1][\"x\"])\n",
        "    dataset[\"bottom_y\"].append(data[0][\"points\"][1][\"y\"])\n",
        "    \n",
        "    counter += 1\n",
        "print(\"Downloaded {} car images.\".format(counter))"
      ],
      "execution_count": 0,
      "outputs": []
    },
    {
      "cell_type": "code",
      "metadata": {
        "id": "SzFM8XuDnjEQ",
        "colab_type": "code",
        "colab": {}
      },
      "source": [
        "df=pd.DataFrame(dataset)\n",
        "df.head()"
      ],
      "execution_count": 0,
      "outputs": []
    },
    {
      "cell_type": "code",
      "metadata": {
        "id": "3Jg3IqZ8oggm",
        "colab_type": "code",
        "colab": {}
      },
      "source": [
        "df[\"image_name\"]=df[\"image_name\"] + \".jpeg\"\n"
      ],
      "execution_count": 0,
      "outputs": []
    },
    {
      "cell_type": "code",
      "metadata": {
        "id": "j7awXzi1veZQ",
        "colab_type": "code",
        "colab": {}
      },
      "source": [
        "df.head()"
      ],
      "execution_count": 0,
      "outputs": []
    },
    {
      "cell_type": "code",
      "metadata": {
        "id": "VIw2kkIlvfvw",
        "colab_type": "code",
        "colab": {}
      },
      "source": [
        "df.drop([\"image_width\", \"image_height\"], axis=1, inplace=True)\n",
        "df.head()"
      ],
      "execution_count": 0,
      "outputs": []
    },
    {
      "cell_type": "code",
      "metadata": {
        "id": "d6amJMLov3gF",
        "colab_type": "code",
        "colab": {}
      },
      "source": [
        "import numpy as np\n",
        "test_samples=np.random.randint(0,len(df),5)"
      ],
      "execution_count": 0,
      "outputs": []
    },
    {
      "cell_type": "code",
      "metadata": {
        "id": "Vh5Z7Mwbw6Un",
        "colab_type": "code",
        "colab": {}
      },
      "source": [
        "test_samples"
      ],
      "execution_count": 0,
      "outputs": []
    },
    {
      "cell_type": "code",
      "metadata": {
        "id": "TXIdREbtw775",
        "colab_type": "code",
        "colab": {}
      },
      "source": [
        "reduced_df=df.drop(test_samples,axis=0)"
      ],
      "execution_count": 0,
      "outputs": []
    },
    {
      "cell_type": "code",
      "metadata": {
        "id": "zMax4rsSxKw-",
        "colab_type": "code",
        "colab": {}
      },
      "source": [
        "w=224\n",
        "h=224\n",
        "channels=3\n",
        "\n",
        "import cv2\n",
        "\n",
        "def show_img(index):\n",
        "  image=cv2.imread('Indian Number Plates/'+df[\"image_name\"].iloc[index])\n",
        "  image=cv2.cvtColor(image,cv2.COLOR_BGR2RGB)\n",
        "  image=cv2.resize(image,dsize=(w,h))\n",
        "\n",
        "  tx=int(df['top_x'].iloc[index]*w)\n",
        "  ty=int(df['top_y'].iloc[index]*h)\n",
        "  bx=int(df['bottom_x'].iloc[index]*w)\n",
        "  by=int(df['bottom_y'].iloc[index]*h)\n",
        "\n",
        "  image=cv2.rectangle(image,(tx,ty),(bx,by),(0,0,255),5)\n",
        "  plt.imshow(image)\n",
        "  plt.show()\n"
      ],
      "execution_count": 0,
      "outputs": []
    },
    {
      "cell_type": "code",
      "metadata": {
        "id": "SlMSo_eSza0i",
        "colab_type": "code",
        "colab": {}
      },
      "source": [
        "show_img(5)"
      ],
      "execution_count": 0,
      "outputs": []
    },
    {
      "cell_type": "code",
      "metadata": {
        "id": "EkBmlwDxzdyS",
        "colab_type": "code",
        "colab": {}
      },
      "source": [
        "datagen=ImageDataGenerator(rescale=1./255,validation_split=0.1)\n"
      ],
      "execution_count": 0,
      "outputs": []
    },
    {
      "cell_type": "code",
      "metadata": {
        "id": "7gP4a9Ahz-z-",
        "colab_type": "code",
        "colab": {}
      },
      "source": [
        "train_generator=datagen.flow_from_dataframe(reduced_df,directory='/content/Indian Number Plates',\n",
        "                                            x_col='image_name',\n",
        "                                            y_col=['top_x','top_y','bottom_x','bottom_y'],\n",
        "                                            target_size=(h,w),\n",
        "                                            class_mode='raw',\n",
        "                                            subset='training')"
      ],
      "execution_count": 0,
      "outputs": []
    },
    {
      "cell_type": "code",
      "metadata": {
        "id": "OxrSv1vn01n1",
        "colab_type": "code",
        "colab": {}
      },
      "source": [
        "validation_generator=datagen.flow_from_dataframe(reduced_df,directory='/content/Indian Number Plates',\n",
        "                                                 x_col='image_name',\n",
        "                                                 y_col=['top_x','top_y','bottom_x','bottom_y'],\n",
        "                                                 target_size=(h,w),\n",
        "                                                 class_mode='raw',\n",
        "                                                 batch_size=32,\n",
        "                                                 subset='validation')"
      ],
      "execution_count": 0,
      "outputs": []
    },
    {
      "cell_type": "code",
      "metadata": {
        "id": "pX5YAaLR1ulc",
        "colab_type": "code",
        "colab": {}
      },
      "source": [
        "model = Sequential()\n",
        "model.add(VGG16(weights=\"imagenet\", include_top=False, input_shape=(h, w, channels)))\n",
        "model.add(Flatten())\n",
        "model.add(Dense(128, activation=\"relu\"))\n",
        "model.add(Dense(64, activation=\"relu\"))\n",
        "model.add(Dense(64, activation=\"relu\"))\n",
        "model.add(Dense(4, activation=\"sigmoid\"))\n",
        "\n",
        "model.layers[-6].trainable = False\n",
        "\n",
        "model.summary()"
      ],
      "execution_count": 0,
      "outputs": []
    },
    {
      "cell_type": "code",
      "metadata": {
        "id": "2BY55yYG13j-",
        "colab_type": "code",
        "colab": {}
      },
      "source": [
        "STEP_SIZE_TRAIN = int(np.ceil(train_generator.n / train_generator.batch_size))\n",
        "STEP_SIZE_VAL = int(np.ceil(validation_generator.n / validation_generator.batch_size))\n",
        "\n",
        "print(\"Train step size:\", STEP_SIZE_TRAIN)\n",
        "print(\"Validation step size:\", STEP_SIZE_VAL)\n",
        "\n",
        "train_generator.reset()\n",
        "validation_generator.reset()"
      ],
      "execution_count": 0,
      "outputs": []
    },
    {
      "cell_type": "code",
      "metadata": {
        "id": "8SXlnk1D2L6h",
        "colab_type": "code",
        "colab": {}
      },
      "source": [
        "adam = Adam(lr=0.0005)\n",
        "model.compile(optimizer=adam, loss=\"mse\")"
      ],
      "execution_count": 0,
      "outputs": []
    },
    {
      "cell_type": "code",
      "metadata": {
        "id": "KUkp7qK42ODJ",
        "colab_type": "code",
        "colab": {}
      },
      "source": [
        "history = model.fit_generator(train_generator,\n",
        "    steps_per_epoch=STEP_SIZE_TRAIN,\n",
        "    validation_data=validation_generator,\n",
        "    validation_steps=STEP_SIZE_VAL,\n",
        "    epochs=30)"
      ],
      "execution_count": 0,
      "outputs": []
    },
    {
      "cell_type": "code",
      "metadata": {
        "id": "HjD33csU2SWU",
        "colab_type": "code",
        "colab": {}
      },
      "source": [
        "model.evaluate_generator(validation_generator, steps=STEP_SIZE_VAL)\n"
      ],
      "execution_count": 0,
      "outputs": []
    },
    {
      "cell_type": "code",
      "metadata": {
        "id": "PfLv2rJD4c77",
        "colab_type": "code",
        "colab": {}
      },
      "source": [
        "for idx, row in df.iloc[test_samples].iterrows():\n",
        "   img = cv2.resize(cv2.imread(\"Indian Number Plates/\" + row[0]) / 255.0, dsize=(w,h))\n",
        "   y_hat = model.predict(img.reshape(1,w,h, 3)).reshape(-1) * w\n",
        "    \n",
        "   xt, yt = y_hat[0], y_hat[1]\n",
        "   xb, yb = y_hat[2], y_hat[3]\n",
        "    \n",
        "   img = cv2.cvtColor(img.astype(np.float32), cv2.COLOR_BGR2RGB)\n",
        "   image = cv2.rectangle(img, (xt, yt), (xb, yb), (0, 0, 255), -1)\n",
        "   plt.imshow(image)\n",
        "   plt.show()\n"
      ],
      "execution_count": 0,
      "outputs": []
    },
    {
      "cell_type": "code",
      "metadata": {
        "id": "Vy0gfwa_4119",
        "colab_type": "code",
        "colab": {}
      },
      "source": [
        ""
      ],
      "execution_count": 0,
      "outputs": []
    }
  ]
}